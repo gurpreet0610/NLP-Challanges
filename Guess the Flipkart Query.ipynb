{
 "cells": [
  {
   "cell_type": "markdown",
   "metadata": {},
   "source": [
    "### Load libraries"
   ]
  },
  {
   "cell_type": "code",
   "execution_count": 1,
   "metadata": {},
   "outputs": [],
   "source": [
    "import numpy as np \n",
    "import string\n",
    "\n",
    "import nltk\n",
    "import re\n",
    "\n",
    "from nltk.corpus import stopwords\n",
    "from nltk.stem import WordNetLemmatizer\n",
    "\n",
    "from nltk.stem.porter import PorterStemmer\n",
    "\n",
    "from sklearn.feature_extraction.text import CountVectorizer\n",
    "from sklearn.feature_extraction.text import TfidfTransformer\n",
    "\n",
    "from sklearn.pipeline import Pipeline\n",
    "from sklearn.svm import LinearSVC"
   ]
  },
  {
   "cell_type": "markdown",
   "metadata": {},
   "source": [
    "### Pre_Process sentences and taking only Noun for training"
   ]
  },
  {
   "cell_type": "code",
   "execution_count": 2,
   "metadata": {},
   "outputs": [],
   "source": [
    "def pre_process_words(word):\n",
    "    lemmatizer = WordNetLemmatizer()\n",
    "    porter = PorterStemmer()\n",
    "    stop_words = set(stopwords.words('english'))\n",
    "    x=nltk.pos_tag([word])\n",
    "    if x[0][1] not in [\"NN\",\"NNS\",\"NNP\"]:\n",
    "        return None\n",
    "    if word in stop_words:\n",
    "        return None\n",
    "    word=lemmatizer.lemmatize(word)\n",
    "    return re.findall(r'(?:[a-zA-Z]+[a-zA-Z\\'\\-]?[a-zA-Z]|[a-zA-Z] +)',word)"
   ]
  },
  {
   "cell_type": "code",
   "execution_count": 3,
   "metadata": {},
   "outputs": [],
   "source": [
    "def pre_process(txt):\n",
    "    txt=txt.lower()\n",
    "    tokens = nltk.word_tokenize(txt)\n",
    "    new_txt=\"\"\n",
    "    for i in tokens:\n",
    "        temp=pre_process_words(i)\n",
    "        if(temp):\n",
    "            new_txt=new_txt+\" \"+temp[0]     \n",
    "        \n",
    "    return new_txt"
   ]
  },
  {
   "cell_type": "markdown",
   "metadata": {},
   "source": [
    "### Generating Dataset"
   ]
  },
  {
   "cell_type": "code",
   "execution_count": 4,
   "metadata": {},
   "outputs": [],
   "source": [
    "def generate_dataset(path):\n",
    "    x_train=[]\n",
    "    y_train=[]\n",
    "    c=0\n",
    "    with open(path, 'r') as file:\n",
    "        for line in file:\n",
    "            c+=1\n",
    "            if c==1:\n",
    "                continue\n",
    "            x=[a for a in line.rstrip().split(\"\\t\")]\n",
    "            sen=pre_process(x[0])\n",
    "            x_train.append(sen)\n",
    "            y_train.append(x[1])\n",
    "            \n",
    "    return x_train,y_train"
   ]
  },
  {
   "cell_type": "code",
   "execution_count": 5,
   "metadata": {},
   "outputs": [],
   "source": [
    "x_train,y_train=generate_dataset(\"dataset/training.txt\")\n",
    "x=np.array(x_train)\n",
    "y=np.array(y_train)\n"
   ]
  },
  {
   "cell_type": "markdown",
   "metadata": {},
   "source": [
    "### Creating Pipeline for Classification Of Data and training Data"
   ]
  },
  {
   "cell_type": "code",
   "execution_count": 6,
   "metadata": {},
   "outputs": [
    {
     "data": {
      "text/plain": [
       "Pipeline(memory=None,\n",
       "     steps=[('vect', CountVectorizer(analyzer='word', binary=False, decode_error='strict',\n",
       "        dtype=<class 'numpy.int64'>, encoding='utf-8', input='content',\n",
       "        lowercase=True, max_df=1.0, max_features=None, min_df=1,\n",
       "        ngram_range=(1, 1), preprocessor=None, stop_words=None,\n",
       "        strip...ax_iter=1000,\n",
       "     multi_class='ovr', penalty='l2', random_state=None, tol=0.0001,\n",
       "     verbose=0))])"
      ]
     },
     "execution_count": 6,
     "metadata": {},
     "output_type": "execute_result"
    }
   ],
   "source": [
    "text_clf=Pipeline([('vect',CountVectorizer()),   #convert text to vectors\n",
    "                   ('tfidf',TfidfTransformer()), #normalizing Data\n",
    "                   ('clf', LinearSVC())])        #using Support Vector Machine With Linear Kernel \n",
    "text_clf.fit(x,y)"
   ]
  },
  {
   "cell_type": "markdown",
   "metadata": {},
   "source": [
    "### Testing Model"
   ]
  },
  {
   "cell_type": "code",
   "execution_count": 7,
   "metadata": {},
   "outputs": [
    {
     "name": "stdout",
     "output_type": "stream",
     "text": [
      "1\n",
      "Canon EOS 1100D SLR (Black, with Kit (EF S18-55 III))\n",
      "dslr canon\n"
     ]
    }
   ],
   "source": [
    "test=[]\n",
    "for i in range(int(input())): \n",
    "    x=input()\n",
    "    sen=\" \".join(word for word in pre_process_words(x))\n",
    "    test.append(x)\n",
    "predicted=text_clf.predict(np.array(test))\n",
    "for i in predicted:\n",
    "    print(i)"
   ]
  },
  {
   "cell_type": "code",
   "execution_count": null,
   "metadata": {},
   "outputs": [],
   "source": []
  }
 ],
 "metadata": {
  "kernelspec": {
   "display_name": "Python 3",
   "language": "python",
   "name": "python3"
  },
  "language_info": {
   "codemirror_mode": {
    "name": "ipython",
    "version": 3
   },
   "file_extension": ".py",
   "mimetype": "text/x-python",
   "name": "python",
   "nbconvert_exporter": "python",
   "pygments_lexer": "ipython3",
   "version": "3.7.1"
  }
 },
 "nbformat": 4,
 "nbformat_minor": 2
}
